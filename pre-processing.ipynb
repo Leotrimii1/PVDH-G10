{
 "cells": [
  {
   "cell_type": "markdown",
   "id": "2cfe6794",
   "metadata": {},
   "source": [
    "# Imports"
   ]
  },
  {
   "cell_type": "code",
   "execution_count": null,
   "id": "20190969",
   "metadata": {},
   "outputs": [],
   "source": [
    "import pandas as pd\n",
    "import numpy as np\n",
    "import matplotlib.pyplot as plt\n",
    "import seaborn as sns"
   ]
  },
  {
   "cell_type": "markdown",
   "id": "cc04b6f1",
   "metadata": {},
   "source": [
    "# Use Dataset"
   ]
  },
  {
   "cell_type": "code",
   "execution_count": null,
   "id": "ae752b8b",
   "metadata": {},
   "outputs": [],
   "source": [
    "df = pd.read_csv('dataset/mobile_addiction_data.csv')\n",
    "\n",
    "df.head()"
   ]
  },
  {
   "cell_type": "code",
   "execution_count": null,
   "id": "391e744f",
   "metadata": {},
   "outputs": [],
   "source": [
    "\n",
    "# Forma e datasetit\n",
    "print(\"Number of rows::\",df.shape[0])\n",
    "print(\"Number of columns::\",df.shape[1])\n",
    "print(\"==================================================================\")\n",
    "\n",
    "# Llojet e atributeve\n",
    "categorical_columns = df.select_dtypes(include=['object']).columns\n",
    "numerical_columns = df.select_dtypes(include=['int64', 'float64']).columns\n",
    "print(\"Atributet kategorike\", categorical_columns)\n",
    "print(\"Atributet numerike\", numerical_columns)"
   ]
  },
  {
   "cell_type": "code",
   "execution_count": null,
   "id": "84d7a222",
   "metadata": {},
   "outputs": [],
   "source": [
    "#columns name formatting\n",
    "\n",
    "df.columns = df.columns.str.strip().str.lower().str.replace(' ', '_')"
   ]
  },
  {
   "cell_type": "code",
   "execution_count": null,
   "id": "bb4e103c",
   "metadata": {},
   "outputs": [],
   "source": [
    "print(\"General Statistics::\\n\")\n",
    "print(df.info())\n",
    "\n",
    "print(\"Summary Statistics::\\n\")\n",
    "print(df.describe(include='all'))"
   ]
  },
  {
   "cell_type": "code",
   "execution_count": null,
   "id": "5aef6bf5",
   "metadata": {},
   "outputs": [],
   "source": [
    "# drop unnecessary columns\n",
    "df = df.drop(columns=[\n",
    "    'user_id',\n",
    "    'primary_device_brand',\n",
    "    'internet_connection_type',\n",
    "    'has_screen_time_management_app',\n",
    "    'has_night_mode_on'\n",
    "], errors='ignore')\n",
    "\n",
    "df.head()"
   ]
  },
  {
   "cell_type": "code",
   "execution_count": null,
   "id": "bee2c41e",
   "metadata": {},
   "outputs": [],
   "source": [
    "\n",
    "# Vlerat e zbrazëta\n",
    "print(\"Columns with Missing Values::\", df.columns[df.isnull().any()].tolist())\n",
    "print(\"Number of rows with Missing Values::\", df.isnull().any(axis=1).sum())\n",
    "print(\"Sample Indices with missing data::\", df.isnull().any(axis=1).to_numpy().nonzero()[0].tolist()[0:10])"
   ]
  },
  {
   "cell_type": "code",
   "execution_count": null,
   "id": "0e692fcb-a409-40f6-bfb6-247d4e5c5090",
   "metadata": {},
   "outputs": [],
   "source": [
    "numeric_df = df.select_dtypes(include=[np.number])\n",
    "\n",
    "negatives_mask = numeric_df < 0\n",
    "\n",
    "negatives_count = negatives_mask.sum()\n",
    "\n",
    "print(\"=== Negative Number Summary ===\")\n",
    "for col, count in negatives_count.items():\n",
    "    if count > 0:\n",
    "        print(f\"{col}: {count} negative values\")\n",
    "    else:\n",
    "        print(f\"{col}: No negative values\")"
   ]
  },
  {
   "cell_type": "code",
   "execution_count": null,
   "id": "cfd65cff-322f-4a96-bdb4-a7e42fe72634",
   "metadata": {},
   "outputs": [],
   "source": [
    "# show rows that contain any negative numeric values\n",
    "rows_with_negatives = df[negatives_mask.any(axis=1)]\n",
    "\n",
    "rows_with_negatives.head()"
   ]
  },
  {
   "cell_type": "code",
   "execution_count": null,
   "id": "e88f22b8",
   "metadata": {},
   "outputs": [],
   "source": [
    "# replace all negative hours to 0\n",
    "time_columns = [\n",
    "    \"daily_screen_time_hours\",\n",
    "    \"phone_unlocks_per_day\",\n",
    "    \"social_media_usage_hours\",\n",
    "    \"gaming_usage_hours\",\n",
    "    \"streaming_usage_hours\",\n",
    "    \"messaging_usage_hours\",\n",
    "    \"work_related_usage_hours\",\n",
    "    \"sleep_hours\",\n",
    "    \"physical_activity_hours\",\n",
    "    \"time_spent_with_family_hours\",\n",
    "    \"online_shopping_hours\",\n",
    "    \"monthly_data_usage_gb\",\n",
    "    \"push_notifications_per_day\"\n",
    "]\n",
    "\n",
    "df[time_columns] = df[time_columns].clip(lower=0)\n",
    "\n",
    "rows_with_negatives = df[negatives_mask.any(axis=1)]\n",
    "\n",
    "rows_with_negatives.head()"
   ]
  },
  {
   "cell_type": "code",
   "execution_count": null,
   "id": "b4d6d32d-9b48-454c-abdc-6534f6567d54",
   "metadata": {},
   "outputs": [],
   "source": [
    "# Select all rows that contains NaN value\n",
    "nan_rows = df[df.isna().any(axis=1)]\n",
    "\n",
    "print(\"=== Rows containing NaN values ===\")\n",
    "nan_rows.head()"
   ]
  },
  {
   "cell_type": "code",
   "execution_count": null,
   "id": "24ba7893",
   "metadata": {},
   "outputs": [],
   "source": [
    "# Check for duplicate rows \n",
    "duplicate_rows = df[df.duplicated()]\n",
    "\n",
    "print(f\"Number of duplicate rows found: {duplicate_rows.shape[0]}\")\n",
    "\n",
    "\n",
    "if duplicate_rows.shape[0] > 0:\n",
    "    df = df.drop_duplicates()\n",
    "    print(\" Duplicate rows removed successfully.\")\n",
    "else:\n",
    "    print(\" No duplicate rows found.\")\n",
    "\n",
    "\n",
    "print(f\"New dataset shape: {df.shape}\")"
   ]
  },
  {
   "cell_type": "code",
   "execution_count": null,
   "id": "e874eefa",
   "metadata": {},
   "outputs": [],
   "source": [
    "#Typecasting categorical columns\n",
    "\n",
    "df = df.apply(lambda col: col.map({'Yes': 1, 'No': 0}) if col.dropna().isin(['Yes', 'No']).all() else col)\n",
    "\n",
    "df['has_children'] = df['has_children'].astype(bool)\n",
    "\n",
    "df.head()"
   ]
  },
  {
   "cell_type": "code",
   "execution_count": null,
   "id": "7c1694d1",
   "metadata": {},
   "outputs": [],
   "source": [
    "# handling categorical columns with one-hot encoding\n",
    "\n",
    "education_type = { 'High School': 1, 'Bachelor': 2, 'Master': 3, 'PhD': 4 , np.nan: -1 }\n",
    "relationship_status_type = { 'Single': 1, 'In Relationship': 2, 'Married': 3, 'Divorced': 4, np.nan: -1 }\n",
    "df['education_level'] = df['education_level'].replace(\"Master's\", \"Master\")\n",
    "df['education_level_encoded'] = df['education_level'].map(education_type)\n",
    "df['relationship_status_encoded'] = df['relationship_status'].map(relationship_status_type)\n",
    "\n",
    "df.head()"
   ]
  },
  {
   "cell_type": "code",
   "execution_count": null,
   "id": "79064df3",
   "metadata": {},
   "outputs": [],
   "source": [
    "# Handle categorical data 1\n",
    "urban_or_rural_type = {\n",
    "    'Urban': 1,\n",
    "    'Rural': 2,\n",
    "    np.nan: -1\n",
    "}\n",
    "\n",
    "self_reported_addiction_level_type = {\n",
    "    'Low': 1,\n",
    "    'Moderate': 2,\n",
    "    'High': 3,\n",
    "    'Severe': 4,\n",
    "    np.nan: -1\n",
    "}\n",
    "\n",
    "gender_type = {\n",
    "    'Male': 1,\n",
    "    'Female': 2,\n",
    "    'Other': 3,\n",
    "    np.nan: -1\n",
    "}\n",
    "\n",
    "df['urban_or_rural_encoded'] = df['urban_or_rural'].map(urban_or_rural_type)\n",
    "df['self_reported_addiction_level_encoded'] = df['self_reported_addiction_level'].map(self_reported_addiction_level_type)\n",
    "df['gender_encoded'] = df['gender'].map(gender_type)\n",
    "\n",
    "df.head()"
   ]
  },
  {
   "cell_type": "code",
   "execution_count": null,
   "id": "a1b1775c",
   "metadata": {},
   "outputs": [],
   "source": [
    "# Agregimi\n",
    "# Create screen time bins\n",
    "bins = [0, 2, 4, 6, 8, 24]\n",
    "labels = ['0-2','2-4','4-6','6-8','8+']\n",
    "df['screen_time_bin'] = pd.cut(df['daily_screen_time_hours'], bins=bins, labels=labels)\n",
    "\n",
    "df.groupby('screen_time_bin')[['mental_health_score','depression_score','sleep_hours']].mean()"
   ]
  },
  {
   "cell_type": "code",
   "execution_count": null,
   "id": "432d52e2",
   "metadata": {},
   "outputs": [],
   "source": [
    "age_bins = [0, 25, 35, 45, 60, 100]\n",
    "age_labels = ['<25','26-35','36-45','46-60','60+']\n",
    "df['age_group'] = pd.cut(df['age'], bins=age_bins, labels=age_labels)\n",
    "\n",
    "\n",
    "avg_screen_and_stress_by_age_gender = df.groupby(['age_group', 'gender']).agg({\n",
    "    'daily_screen_time_hours': 'mean',\n",
    "    'stress_level': 'mean'\n",
    "}).round(2)\n",
    "\n",
    "avg_social_and_stress_by_area_education = df.groupby(['urban_or_rural', 'education_level']).agg({\n",
    "    'social_media_usage_hours': 'mean',\n",
    "    'stress_level': 'mean'\n",
    "}).round(2)\n",
    "\n",
    "print(\"\\033[1;32mMesatarja e kohes se shpenzuar ne ekran dhe nivelit te stresit:\\033[0m\")\n",
    "print(avg_screen_and_stress_by_age_gender)\n",
    "\n",
    "print(\"\\n\\033[1;32mMesatarja e përdorimit te mediave sociale dhe nivelit te stresit sipas zones dhe nivelit te arsimit:\\033[0m\")\n",
    "print(avg_social_and_stress_by_area_education)\n"
   ]
  },
  {
   "cell_type": "code",
   "execution_count": null,
   "id": "08eb9c84",
   "metadata": {},
   "outputs": [],
   "source": [
    "# Mostra e të dhënave\n",
    "\n",
    "sample_data = df.sample(frac=0.2, random_state=42)\n",
    "\n",
    "numeric_cols = ['age', 'income_usd', 'urban_or_rural', 'stress_level', 'daily_screen_time_hours']\n",
    "\n",
    "for col in numeric_cols:\n",
    "    plt.figure(figsize=(10,5))\n",
    "    sns.histplot(df[col], color='blue', label='Full Dataset', kde=True, stat=\"density\", alpha=0.5)\n",
    "    sns.histplot(sample_data[col], color='orange', label='Sample', kde=True, stat=\"density\", alpha=0.5)\n",
    "    plt.title(f'Distribution Comparison: {col}')\n",
    "    plt.xlabel(col)\n",
    "    plt.ylabel('Density')\n",
    "    plt.legend()\n",
    "    plt.show()"
   ]
  }
 ],
 "metadata": {
  "kernelspec": {
   "display_name": "venv",
   "language": "python",
   "name": "python3"
  },
  "language_info": {
   "codemirror_mode": {
    "name": "ipython",
    "version": 3
   },
   "file_extension": ".py",
   "mimetype": "text/x-python",
   "name": "python",
   "nbconvert_exporter": "python",
   "pygments_lexer": "ipython3"
  }
 },
 "nbformat": 4,
 "nbformat_minor": 5
}
