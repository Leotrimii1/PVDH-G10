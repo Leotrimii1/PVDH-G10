{
 "cells": [
  {
   "cell_type": "markdown",
   "id": "2cfe6794",
   "metadata": {},
   "source": [
    "# Imports"
   ]
  },
  {
   "cell_type": "code",
   "execution_count": null,
   "id": "20190969",
   "metadata": {},
   "outputs": [],
   "source": [
    "import pandas as pd\n",
    "import numpy as np"
   ]
  },
  {
   "cell_type": "markdown",
   "id": "cc04b6f1",
   "metadata": {},
   "source": [
    "# Use Dataset"
   ]
  },
  {
   "cell_type": "code",
   "execution_count": null,
   "id": "ae752b8b",
   "metadata": {},
   "outputs": [],
   "source": [
    "df = pd.read_csv('dataset/mobile_addiction_data.csv')\n",
    "\n",
    "df.head()"
   ]
  },
  {
   "cell_type": "code",
   "execution_count": null,
   "id": "391e744f",
   "metadata": {},
   "outputs": [],
   "source": [
    "print(\"Number of rows::\",df.shape[0])\n",
    "print(\"Number of columns::\",df.shape[1])\n",
    "print (\"Column Names &  Data Types::\\n\",df.dtypes)"
   ]
  },
  {
   "cell_type": "code",
   "execution_count": null,
   "id": "bee2c41e",
   "metadata": {},
   "outputs": [],
   "source": [
    "print(\"Columns with Missing Values::\", df.columns[df.isnull().any()].tolist())\n",
    "print(\"Number of rows with Missing Values::\", df.isnull().any(axis=1).sum())\n",
    "print(\"Sample Indices with missing data::\", df.isnull().any(axis=1).to_numpy().nonzero()[0].tolist()[0:10])"
   ]
  },
  {
   "cell_type": "code",
   "execution_count": null,
   "id": "75e1e4a6",
   "metadata": {},
   "outputs": [],
   "source": [
    "#columns name formatting\n",
    "\n",
    "df.columns = df.columns.str.strip().str.lower().str.replace(' ', '_')\n"
   ]
  },
  {
   "cell_type": "code",
   "execution_count": null,
   "id": "e064d2cf",
   "metadata": {},
   "outputs": [],
   "source": [
    "print(\"General Statistics::\\n\")\n",
    "print(df.info())\n",
    "\n",
    "print(\"Summary Statistics::\\n\")\n",
    "print(df.describe(include='all'))"
   ]
  },
  {
   "cell_type": "code",
   "execution_count": null,
   "id": "4e60a99b",
   "metadata": {},
   "outputs": [],
   "source": [
    "# drop unnecessary columns\n",
    "df = df.drop(columns=[\n",
    "    'user_id',\n",
    "    'primary_device_brand',\n",
    "    'internet_connection_type',\n",
    "    'has_screen_time_management_app',\n",
    "    'has_night_mode_on'\n",
    "], errors='ignore')\n",
    "\n",
    "df.head()"
   ]
  },
  {
   "cell_type": "code",
   "execution_count": null,
   "id": "0e692fcb-a409-40f6-bfb6-247d4e5c5090",
   "metadata": {},
   "outputs": [],
   "source": [
    "numeric_df = df.select_dtypes(include=[np.number])\n",
    "\n",
    "negatives_mask = numeric_df < 0\n",
    "\n",
    "negatives_count = negatives_mask.sum()\n",
    "\n",
    "print(\"=== Negative Number Summary ===\")\n",
    "for col, count in negatives_count.items():\n",
    "    if count > 0:\n",
    "        print(f\"{col}: {count} negative values\")\n",
    "    else:\n",
    "        print(f\"{col}: No negative values\")"
   ]
  },
  {
   "cell_type": "code",
   "execution_count": null,
   "id": "cfd65cff-322f-4a96-bdb4-a7e42fe72634",
   "metadata": {},
   "outputs": [],
   "source": [
    "# show rows that contain any negative numeric values\n",
    "rows_with_negatives = df[negatives_mask.any(axis=1)]\n",
    "\n",
    "rows_with_negatives.head()"
   ]
  },
  {
   "cell_type": "code",
   "execution_count": null,
   "id": "e88f22b8",
   "metadata": {},
   "outputs": [],
   "source": [
    "# replace all negative hours to 0\n",
    "time_columns = [\n",
    "    \"daily_screen_time_hours\",\n",
    "    \"phone_unlocks_per_day\",\n",
    "    \"social_media_usage_hours\",\n",
    "    \"gaming_usage_hours\",\n",
    "    \"streaming_usage_hours\",\n",
    "    \"messaging_usage_hours\",\n",
    "    \"work_related_usage_hours\",\n",
    "    \"sleep_hours\",\n",
    "    \"physical_activity_hours\",\n",
    "    \"time_spent_with_family_hours\",\n",
    "    \"online_shopping_hours\",\n",
    "    \"monthly_data_usage_gb\",\n",
    "    \"push_notifications_per_day\"\n",
    "]\n",
    "\n",
    "df[time_columns] = df[time_columns].clip(lower=0)\n",
    "\n",
    "rows_with_negatives = df[negatives_mask.any(axis=1)]\n",
    "\n",
    "rows_with_negatives.head()"
   ]
  },
  {
   "cell_type": "code",
   "execution_count": null,
   "id": "b4d6d32d-9b48-454c-abdc-6534f6567d54",
   "metadata": {},
   "outputs": [],
   "source": [
    "# Select all rows that contains NaN value\n",
    "nan_rows = df[df.isna().any(axis=1)]\n",
    "\n",
    "print(\"=== Rows containing NaN values ===\")\n",
    "nan_rows.head()"
   ]
  },
  {
   "cell_type": "code",
   "execution_count": null,
   "id": "24ba7893",
   "metadata": {},
   "outputs": [],
   "source": [
    "# Check for duplicate rows \n",
    "duplicate_rows = df[df.duplicated()]\n",
    "\n",
    "print(f\"Number of duplicate rows found: {duplicate_rows.shape[0]}\")\n",
    "\n",
    "\n",
    "if duplicate_rows.shape[0] > 0:\n",
    "    df = df.drop_duplicates()\n",
    "    print(\" Duplicate rows removed successfully.\")\n",
    "else:\n",
    "    print(\" No duplicate rows found.\")\n",
    "\n",
    "\n",
    "print(f\"New dataset shape: {df.shape}\")"
   ]
  },
  {
   "cell_type": "code",
   "execution_count": null,
   "id": "e874eefa",
   "metadata": {},
   "outputs": [],
   "source": [
    "#Typecasting categorical columns\n",
    "\n",
    "df = df.apply(lambda col: col.map({'Yes': 1, 'No': 0}) if col.dropna().isin(['Yes', 'No']).all() else col)\n",
    "\n",
    "df['has_children'] = df['has_children'].astype(bool)\n",
    "\n",
    "df.head()"
   ]
  }
 ],
 "metadata": {
  "kernelspec": {
   "display_name": "venv",
   "language": "python",
   "name": "python3"
  },
  "language_info": {
   "codemirror_mode": {
    "name": "ipython",
    "version": 3
   },
   "file_extension": ".py",
   "mimetype": "text/x-python",
   "name": "python",
   "nbconvert_exporter": "python",
   "pygments_lexer": "ipython3"
  }
 },
 "nbformat": 4,
 "nbformat_minor": 5
}
